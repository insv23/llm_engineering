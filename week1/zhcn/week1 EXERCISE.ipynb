{
 "cells": [
  {
   "cell_type": "code",
   "execution_count": null,
   "metadata": {},
   "outputs": [],
   "source": [
    "import os\n",
    "from dotenv import load_dotenv\n",
    "from openai import OpenAI\n",
    "from IPython.display import Markdown, display, update_display"
   ]
  },
  {
   "cell_type": "code",
   "execution_count": null,
   "metadata": {},
   "outputs": [],
   "source": [
    "load_dotenv(override=True)\n",
    "api_key = os.getenv('OPENAI_API_KEY')\n",
    "base_url = os.getenv('OPENAI_API_BASE')\n",
    "\n",
    "MODEl = 'deepseek-chat'\n",
    "\n",
    "openai = OpenAI(api_key=api_key, base_url=base_url)"
   ]
  },
  {
   "cell_type": "code",
   "execution_count": null,
   "metadata": {},
   "outputs": [],
   "source": [
    "system_prompt = \"\"\"\n",
    "你是一个专业的 Python 代码解释器。你的任务是接收一段 Python 代码，并提供详细、易懂的解释。你的解释应该包括以下几个方面：\n",
    "\n",
    "1.  **代码功能概述：** 简要说明这段代码的整体功能是什么。\n",
    "2.  **逐行代码解释：** 对每一行代码进行详细解释，说明其作用、原理和涉及到的 Python 语法知识。\n",
    "3.  **变量解释：** 解释代码中使用的所有变量的含义、类型以及在代码运行过程中的变化。\n",
    "4.  **函数/类解释：** 如果代码包含函数或类，详细解释它们的作用、参数、返回值以及内部实现逻辑。\n",
    "5.  **代码示例：** 如果有必要，提供简单的代码示例来说明代码片段的具体用法和效果。\n",
    "6.  **潜在问题和改进建议：** 识别代码中可能存在的潜在问题（如错误处理、性能问题）并给出改进建议。\n",
    "7.  **重点强调：** 用简洁的语言突出代码中的核心逻辑和关键点。\n",
    "\n",
    "你的解释应该面向具有一定编程基础，但不熟悉代码具体细节的用户。  避免使用过于专业的技术术语，尽量使用通俗易懂的语言。 保持耐心和细致，确保用户能够理解代码的每一部分。\n",
    "\n",
    "注意：你的回复应该清晰、结构化，可以使用列表、段落、代码块等方式来组织你的内容。 优先保证准确性，但同时也要注意表达的清晰和易懂性。\n",
    "\"\"\""
   ]
  },
  {
   "cell_type": "code",
   "execution_count": null,
   "metadata": {},
   "outputs": [],
   "source": [
    "def get_user_prompt(py_codes: str):\n",
    "    user_prompt = \"请详细解释以下 Python 代码：\\n\"\n",
    "    user_prompt += \"```python\\n\"\n",
    "    user_prompt += py_codes\n",
    "    user_prompt += \"```\"\n",
    "    return user_prompt"
   ]
  },
  {
   "cell_type": "code",
   "execution_count": null,
   "metadata": {},
   "outputs": [],
   "source": [
    "py_codes = \"\"\"\n",
    "def factorial(n):\n",
    "  if n == 0:\n",
    "    return 1\n",
    "  else:\n",
    "    return n * factorial(n-1)\n",
    "\"\"\""
   ]
  },
  {
   "cell_type": "code",
   "execution_count": null,
   "metadata": {},
   "outputs": [],
   "source": [
    "def stream_explain(py_codes: str):\n",
    "    stream = openai.chat.completions.create(\n",
    "        model=MODEl,\n",
    "        messages=[\n",
    "            {\"role\": \"system\", \"content\": system_prompt},\n",
    "            {\"role\": \"user\", \"content\": get_user_prompt(py_codes)}\n",
    "        ],\n",
    "        stream=True\n",
    "    )\n",
    "\n",
    "    response = \"\"\n",
    "    display_handle = display(Markdown(\"\"), display_id=True)\n",
    "    for chunk in stream:\n",
    "        response += chunk.choices[0].delta.content or ''\n",
    "        update_display(Markdown(response), display_id=display_handle.display_id)"
   ]
  },
  {
   "cell_type": "code",
   "execution_count": null,
   "metadata": {},
   "outputs": [],
   "source": [
    "stream_explain(py_codes)"
   ]
  },
  {
   "cell_type": "code",
   "execution_count": null,
   "metadata": {},
   "outputs": [],
   "source": [
    "stream_explain(input('输入一段Python代码'))"
   ]
  }
 ],
 "metadata": {
  "kernelspec": {
   "display_name": "Python 3 (ipykernel)",
   "language": "python",
   "name": "python3"
  },
  "language_info": {
   "codemirror_mode": {
    "name": "ipython",
    "version": 3
   },
   "file_extension": ".py",
   "mimetype": "text/x-python",
   "name": "python",
   "nbconvert_exporter": "python",
   "pygments_lexer": "ipython3",
   "version": "3.11.1"
  }
 },
 "nbformat": 4,
 "nbformat_minor": 2
}
